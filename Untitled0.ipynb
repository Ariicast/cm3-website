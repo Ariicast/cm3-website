{
  "nbformat": 4,
  "nbformat_minor": 0,
  "metadata": {
    "colab": {
      "provenance": [],
      "authorship_tag": "ABX9TyNo3UQdJzSkcdFAT00f1TCY",
      "include_colab_link": true
    },
    "kernelspec": {
      "name": "python3",
      "display_name": "Python 3"
    },
    "language_info": {
      "name": "python"
    }
  },
  "cells": [
    {
      "cell_type": "markdown",
      "metadata": {
        "id": "view-in-github",
        "colab_type": "text"
      },
      "source": [
        "<a href=\"https://colab.research.google.com/github/Ariicast/cm3-website/blob/main/Untitled0.ipynb\" target=\"_parent\"><img src=\"https://colab.research.google.com/assets/colab-badge.svg\" alt=\"Open In Colab\"/></a>"
      ]
    },
    {
      "cell_type": "code",
      "execution_count": 8,
      "metadata": {
        "colab": {
          "base_uri": "https://localhost:8080/"
        },
        "id": "nb6Ll64e-QsP",
        "outputId": "29737539-4356-4878-b5a8-7b8dc96faa66"
      },
      "outputs": [
        {
          "output_type": "stream",
          "name": "stdout",
          "text": [
            "No, that doesn't work.\n",
            "Pick a number for a\n",
            "2\n",
            "Pick a number for b\n",
            "4\n",
            "Pick a number for c\n",
            "6\n",
            "Pick a number for n\n",
            "8\n",
            "No, that doesn't work.\n"
          ]
        }
      ],
      "source": [
        "# Arianna Castillo, BOS2 CM3. Homework Feb 7th\n",
        "\n",
        "\n",
        "def check_fermat(a,b,c,n):\n",
        "    if n > 2 and a**n + b**n == c**n:\n",
        "        print(\"Holy smokes, fermat was wrong!\")\n",
        "    else:\n",
        "        print(\"No, that doesn't work.\")\n",
        "\n",
        "\n",
        "def user_inputs_fermat():\n",
        "    a = int(input(\"Pick a number for a\\n\"))\n",
        "    b = int(input(\"Pick a number for b\\n\"))\n",
        "    c = int(input(\"Pick a number for c\\n\"))\n",
        "    n = int(input(\"Pick a number for n\\n\"))\n",
        "    check_fermat(a,b,c,n)\n",
        "\n",
        "\n",
        "check_fermat(1,2,3,3)\n",
        "user_inputs_fermat()"
      ]
    }
  ]
}