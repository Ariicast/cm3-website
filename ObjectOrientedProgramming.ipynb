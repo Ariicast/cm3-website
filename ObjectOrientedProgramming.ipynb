{
  "nbformat": 4,
  "nbformat_minor": 0,
  "metadata": {
    "colab": {
      "provenance": [],
      "include_colab_link": true
    },
    "kernelspec": {
      "name": "python3",
      "display_name": "Python 3"
    },
    "language_info": {
      "name": "python"
    }
  },
  "cells": [
    {
      "cell_type": "markdown",
      "metadata": {
        "id": "view-in-github",
        "colab_type": "text"
      },
      "source": [
        "<a href=\"https://colab.research.google.com/github/Ariicast/cm3-website/blob/main/ObjectOrientedProgramming.ipynb\" target=\"_parent\"><img src=\"https://colab.research.google.com/assets/colab-badge.svg\" alt=\"Open In Colab\"/></a>"
      ]
    },
    {
      "cell_type": "markdown",
      "source": [
        "Chapter 15 Exercise 1"
      ],
      "metadata": {
        "id": "-2dawtD4yNzD"
      }
    },
    {
      "cell_type": "code",
      "source": [
        "class Time:\n",
        "    def __init__(self, hour=0, minute=0, second=0):\n",
        "        self.seconds = hour * 3600 + minute * 60 + second\n",
        "\n",
        "def print_time(self):\n",
        "    hours = self.seconds // 3600\n",
        "    remainder = self.seconds % 3600\n",
        "    minutes = remainder // 60\n",
        "    seconds = remainder % 60\n",
        "    print('%.2d:%.2d:%.2d' % (hours, minutes, seconds))\n",
        "\n",
        "def increment(self, seconds):\n",
        "    self.seconds += seconds\n",
        "\n",
        "@staticmethod\n",
        "def int_to_time(seconds):\n",
        "    return Time(0, 0, seconds)\n",
        "\n"
      ],
      "metadata": {
        "id": "olgLUJMAyXTp"
      },
      "execution_count": null,
      "outputs": []
    },
    {
      "cell_type": "markdown",
      "source": [
        "Chapter 15 Exercise 2"
      ],
      "metadata": {
        "id": "IFrlYhNzydL8"
      }
    },
    {
      "cell_type": "code",
      "source": [
        "class Kangaroo:\n",
        "    def __init__(self, contents=None):\n",
        "        if contents is None:\n",
        "            contents = []\n",
        "        self.pouch_contents = contents\n",
        "\n",
        "    def put_in_pouch(self, item):\n",
        "        self.pouch_contents.append(item)\n",
        "\n",
        "    def __str__(self):\n",
        "        return f'Kangaroo with pouch contents: {self.pouch_contents}'\n",
        "\n",
        "def test_kangaroo():\n",
        "    kanga = Kangaroo()\n",
        "    roo = Kangaroo()\n",
        "    kanga.put_in_pouch('wallet')\n",
        "    kanga.put_in_pouch('car keys')\n",
        "    roo.put_in_pouch('map')\n",
        "\n",
        "    # Adding roo to kanga's pouch to test nesting objects within objects\n",
        "    kanga.put_in_pouch(roo)\n",
        "\n",
        "    print(kanga)\n",
        "    print(roo)\n",
        "\n",
        "# Execute the test function\n",
        "test_kangaroo()\n",
        "\n"
      ],
      "metadata": {
        "id": "U-HZ6ozCyiTu",
        "outputId": "8c2a1074-e313-4f5a-f732-48ac9b1b3978",
        "colab": {
          "base_uri": "https://localhost:8080/"
        }
      },
      "execution_count": null,
      "outputs": [
        {
          "output_type": "stream",
          "name": "stdout",
          "text": [
            "Kangaroo with pouch contents: ['wallet', 'car keys', <__main__.Kangaroo object at 0x7c4d42e0f280>]\n",
            "Kangaroo with pouch contents: ['map']\n"
          ]
        }
      ]
    },
    {
      "cell_type": "markdown",
      "source": [
        "Chapter 16 Exercise 1"
      ],
      "metadata": {
        "id": "tCpuorClynNl"
      }
    },
    {
      "cell_type": "code",
      "source": [
        "class Time:\n",
        "    \"\"\"Represents the time of day.\n",
        "\n",
        "    attributes: hour, minute, second\n",
        "    \"\"\"\n",
        "\n",
        "def time_to_int(time):\n",
        "    \"\"\"Converts a Time object into an integer representing seconds.\"\"\"\n",
        "    minutes = time.hour * 60 + time.minute\n",
        "    seconds = minutes * 60 + time.second\n",
        "    return seconds\n",
        "\n",
        "def int_to_time(seconds):\n",
        "    \"\"\"Converts an integer representing seconds into a Time object.\"\"\"\n",
        "    time = Time()\n",
        "    minutes, time.second = divmod(seconds, 60)\n",
        "    time.hour, time.minute = divmod(minutes, 60)\n",
        "    return time\n",
        "\n",
        "def mul_time(time, factor):\n",
        "    \"\"\"Multiplies a Time object by a factor.\"\"\"\n",
        "    seconds = time_to_int(time)\n",
        "    new_seconds = seconds * factor\n",
        "    return int_to_time(new_seconds)\n",
        "\n",
        "def average_pace(time, distance):\n",
        "    \"\"\"Calculates the average pace (time per mile) given a finishing time and distance.\"\"\"\n",
        "    if distance == 0:\n",
        "        raise ValueError(\"Distance cannot be zero.\")\n",
        "    pace = mul_time(time, 1 / distance)\n",
        "    return pace\n",
        "\n",
        "# Example usage:\n",
        "race_time = Time()\n",
        "race_time.hour = 1  # 1 hour\n",
        "race_time.minute = 30  # 30 minutes\n",
        "race_time.second = 0  # 0 seconds\n",
        "\n",
        "distance = 10  # 10 miles\n",
        "\n",
        "pace = average_pace(race_time, distance)\n",
        "print(f\"Average pace: {pace.hour}:{pace.minute}:{pace.second} per mile\")\n",
        "\n"
      ],
      "metadata": {
        "id": "Wd9_IImiyutx"
      },
      "execution_count": null,
      "outputs": []
    },
    {
      "cell_type": "markdown",
      "source": [
        "Chapter 16 Exercise 2"
      ],
      "metadata": {
        "id": "mU8N29BRyyiV"
      }
    },
    {
      "cell_type": "code",
      "source": [
        "from datetime import datetime\n",
        "\n",
        "# Get the current date\n",
        "now = datetime.now()\n",
        "# Print the day of the week\n",
        "print(\"Today's date:\", now.strftime('%Y-%m-%d'))\n",
        "print(\"Day of the week:\", now.strftime('%A'))\n",
        "\n",
        "from datetime import datetime\n",
        "\n",
        "def print_age_and_time_until_next_birthday(birthday_str):\n",
        "    birthday = datetime.strptime(birthday_str, '%Y-%m-%d')\n",
        "    now = datetime.now()\n",
        "    age = now.year - birthday.year\n",
        "    if (birthday.month, birthday.day) > (now.month, now.day):\n",
        "        age -= 1  # Adjust if birthday hasn't occurred this year yet\n",
        "\n",
        "    next_birthday = birthday.replace(year=now.year)\n",
        "    if next_birthday < now:\n",
        "        next_birthday = next_birthday.replace(year=now.year + 1)\n",
        "\n",
        "    time_until = next_birthday - now\n",
        "\n",
        "    print(f\"You are {age} years old.\")\n",
        "    days, seconds = time_until.days, time_until.seconds\n",
        "    hours = seconds // 3600\n",
        "    minutes = (seconds % 3600) // 60\n",
        "    seconds = seconds % 60\n",
        "    print(f\"Time until your next birthday: {days} days, {hours} hours, {minutes} minutes, and {seconds} seconds.\")\n",
        "\n",
        "# Example usage\n",
        "print_age_and_time_until_next_birthday('2000-01-01')\n",
        "\n",
        "from datetime import datetime\n",
        "\n",
        "def find_double_day(birthday1, birthday2):\n",
        "    birthday1 = datetime.strptime(birthday1, '%Y-%m-%d')\n",
        "    birthday2 = datetime.strptime(birthday2, '%Y-%m-%d')\n",
        "\n",
        "    if birthday1 > birthday2:\n",
        "        older, younger = birthday2, birthday1\n",
        "    else:\n",
        "        older, younger = birthday1, birthday2\n",
        "\n",
        "    age_difference = younger - older\n",
        "    double_day = younger + age_difference\n",
        "    return double_day.date()\n",
        "\n",
        "# Example usage\n",
        "print(find_double_day('1990-01-01', '2000-01-01'))\n",
        "\n"
      ],
      "metadata": {
        "id": "mnO13tKfy5BV"
      },
      "execution_count": null,
      "outputs": []
    },
    {
      "cell_type": "markdown",
      "source": [
        "Chapter 17 Exercise 1"
      ],
      "metadata": {
        "id": "d7qQtGmey7ZE"
      }
    },
    {
      "cell_type": "code",
      "source": [
        "class Time:\n",
        "    \"\"\"Represents the time of day as seconds since midnight.\"\"\"\n",
        "\n",
        "    def __init__(self, hour=0, minute=0, second=0):\n",
        "        \"\"\"Initializes a Time object with hour, minute, and second, but stores as total seconds.\"\"\"\n",
        "        self.seconds = hour * 3600 + minute * 60 + second\n",
        "\n",
        "    def print_time(self):\n",
        "        \"\"\"Prints the time in the format hour:minute:second.\"\"\"\n",
        "        hour, remainder = divmod(self.seconds, 3600)\n",
        "        minute, second = divmod(remainder, 60)\n",
        "        print('%.2d:%.2d:%.2d' % (hour, minute, second))\n",
        "\n",
        "    def time_to_int(self):\n",
        "        \"\"\"Returns the number of seconds since midnight.\"\"\"\n",
        "        return self.seconds\n",
        "\n",
        "    @staticmethod\n",
        "    def int_to_time(seconds):\n",
        "        \"\"\"Static method to create a Time object from total seconds.\"\"\"\n",
        "        return Time(0, 0, seconds)\n",
        "\n",
        "    def increment(self, seconds):\n",
        "        \"\"\"Increments the time by a certain number of seconds.\"\"\"\n",
        "        self.seconds += seconds\n",
        "        return Time.int_to_time(self.seconds)\n",
        "\n",
        "    def is_after(self, other):\n",
        "        \"\"\"Checks if this time is after the provided time.\"\"\"\n",
        "        return self.seconds > other.seconds\n",
        "\n",
        "    def __add__(self, other):\n",
        "        \"\"\"Adds two Time objects or a Time object and a number of seconds.\"\"\"\n",
        "        if isinstance(other, Time):\n",
        "            return Time.int_to_time(self.seconds + other.seconds)\n",
        "        else:\n",
        "            return Time.int_to_time(self.seconds + other)\n",
        "\n",
        "    def __radd__(self, other):\n",
        "        \"\"\"Enables right-hand addition for commutativity.\"\"\"\n",
        "        return self.__add__(other)\n",
        "\n",
        "# Example usage\n",
        "if __name__ == '__main__':\n",
        "    start = Time(9, 45, 0)\n",
        "    start.print_time()\n",
        "    end = start.increment(500)\n",
        "    end.print_time()\n",
        "    print(start.is_after(end))\n",
        "    total = sum([Time(1, 35, 0), Time(2, 45, 0), Time(3, 55, 0)])\n",
        "    total.print_time()\n",
        "\n"
      ],
      "metadata": {
        "id": "yJiVUJ7ezEMD"
      },
      "execution_count": null,
      "outputs": []
    },
    {
      "cell_type": "markdown",
      "source": [
        "Chapter 17 Exercise 2"
      ],
      "metadata": {
        "id": "Yt0KCVHUzHlI"
      }
    },
    {
      "cell_type": "code",
      "source": [
        "class Kangaroo:\n",
        "    def __init__(self, pouch_contents=[]):  # This is problematic\n",
        "        self.pouch_contents = pouch_contents\n",
        "\n",
        "    def put_in_pouch(self, item):\n",
        "        self.pouch_contents.append(item)\n",
        "\n",
        "    def __str__(self):\n",
        "        return f'Kangaroo with pouch contents: {self.pouch_contents}'\n",
        "\n",
        "class Kangaroo:\n",
        "    def __init__(self, pouch_contents=None):\n",
        "        if pouch_contents is None:\n",
        "            pouch_contents = []\n",
        "        self.pouch_contents = pouch_contents\n",
        "\n",
        "    def put_in_pouch(self, item):\n",
        "        self.pouch_contents.append(item)\n",
        "\n",
        "    def __str__(self):\n",
        "        content_str = ', '.join(str(item) for item in self.pouch_contents)\n",
        "        return f'Kangaroo with pouch contents: {content_str}'\n",
        "\n",
        "kanga = Kangaroo()\n",
        "roo = Kangaroo()\n",
        "roo.put_in_pouch('something')\n",
        "kanga.put_in_pouch(roo)\n",
        "\n",
        "print(kanga)\n",
        "print(roo)\n",
        "\n"
      ],
      "metadata": {
        "id": "bFHT3-QCzKCH"
      },
      "execution_count": null,
      "outputs": []
    }
  ]
}