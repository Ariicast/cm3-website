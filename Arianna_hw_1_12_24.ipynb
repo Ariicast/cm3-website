{
  "nbformat": 4,
  "nbformat_minor": 0,
  "metadata": {
    "colab": {
      "provenance": [],
      "authorship_tag": "ABX9TyOyDupj90JabALLB8G4abFO",
      "include_colab_link": true
    },
    "kernelspec": {
      "name": "python3",
      "display_name": "Python 3"
    },
    "language_info": {
      "name": "python"
    }
  },
  "cells": [
    {
      "cell_type": "markdown",
      "metadata": {
        "id": "view-in-github",
        "colab_type": "text"
      },
      "source": [
        "<a href=\"https://colab.research.google.com/github/Ariicast/cm3-website/blob/main/Arianna_hw_1_12_24.ipynb\" target=\"_parent\"><img src=\"https://colab.research.google.com/assets/colab-badge.svg\" alt=\"Open In Colab\"/></a>"
      ]
    },
    {
      "cell_type": "code",
      "source": [
        "def gcd(a, b):\n",
        "  if b == 0:\n",
        "    return a\n",
        "  else:\n",
        "    return gcd(b, a % b)"
      ],
      "metadata": {
        "id": "3D3HnMo_lset"
      },
      "execution_count": 20,
      "outputs": []
    }
  ]
}