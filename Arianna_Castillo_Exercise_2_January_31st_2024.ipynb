{
  "nbformat": 4,
  "nbformat_minor": 0,
  "metadata": {
    "colab": {
      "provenance": [],
      "authorship_tag": "ABX9TyOEGvYGK3vfxZYXozrAEHIp",
      "include_colab_link": true
    },
    "kernelspec": {
      "name": "python3",
      "display_name": "Python 3"
    },
    "language_info": {
      "name": "python"
    }
  },
  "cells": [
    {
      "cell_type": "markdown",
      "metadata": {
        "id": "view-in-github",
        "colab_type": "text"
      },
      "source": [
        "<a href=\"https://colab.research.google.com/github/Ariicast/cm3-website/blob/main/Arianna_Castillo_Exercise_2_January_31st_2024.ipynb\" target=\"_parent\"><img src=\"https://colab.research.google.com/assets/colab-badge.svg\" alt=\"Open In Colab\"/></a>"
      ]
    },
    {
      "cell_type": "markdown",
      "source": [
        " **Exercise** **2**  \n",
        "---\n",
        "\n",
        "\n",
        "Practice using the Python interpreter as a calculator:\n",
        "\n",
        "- The volume of a sphere with radius r is 4/3 π r3. What is the volume of a sphere with radius 5?\n",
        "\n",
        "\n",
        "- Suppose the cover price of a book is $24.95 , but bookstores get a 40% discount. Shipping costs $3 for the first copy and 75 cents for each additional copy. What is the total wholesale cost for 60 copies?\n",
        "\n",
        "- If I leave my house at 6:52 am and run 1 mile at an easy pace (8:15 per mile), then 3 miles at tempo (7:12 per mile) and 1 mile at easy pace again, what time do I get home for breakfast?\n",
        "\n",
        "\n",
        "(the code doesn't let me correct in text- spelling)"
      ],
      "metadata": {
        "id": "WnAv6u1IZTmS"
      }
    },
    {
      "cell_type": "code",
      "execution_count": 1,
      "metadata": {
        "colab": {
          "base_uri": "https://localhost:8080/"
        },
        "id": "8ZuF8VQEZMoG",
        "outputId": "dae65dc4-dc54-4647-b1c6-33ab23883626"
      },
      "outputs": [
        {
          "output_type": "execute_result",
          "data": {
            "text/plain": [
              "523.5987755982989"
            ]
          },
          "metadata": {},
          "execution_count": 1
        }
      ],
      "source": [
        "import math\n",
        "\n",
        "radius = 5\n",
        "volume = (4/3) * math.pi * (radius ** 3)\n",
        "volume"
      ]
    },
    {
      "cell_type": "markdown",
      "source": [
        "523.6 cubic units"
      ],
      "metadata": {
        "id": "dIt_v-MiZ13f"
      }
    },
    {
      "cell_type": "code",
      "source": [
        "cover_price = 24.95\n",
        "discount = 0.4\n",
        "shipping_first_copy = 3\n",
        "shipping_additional_copy = 0.75\n",
        "num_copies = 60\n",
        "\n",
        "total_cost=(cover_price *(1 - discount)* num_copies)+shipping_first_copy+(shipping_additional_copy*(num_copies - 1))\n",
        "total_cost"
      ],
      "metadata": {
        "colab": {
          "base_uri": "https://localhost:8080/"
        },
        "id": "8YXumMPlZt7a",
        "outputId": "b035e099-dae6-408c-f1a8-3a867cec497f"
      },
      "execution_count": 7,
      "outputs": [
        {
          "output_type": "execute_result",
          "data": {
            "text/plain": [
              "945.4499999999999"
            ]
          },
          "metadata": {},
          "execution_count": 7
        }
      ]
    },
    {
      "cell_type": "markdown",
      "source": [
        "$945.45"
      ],
      "metadata": {
        "id": "yBVySyoTaKMU"
      }
    },
    {
      "cell_type": "code",
      "source": [
        "start_time_hour = 6\n",
        "start_time_minute = 52\n",
        "\n",
        "easy_pace_time = (8 + 15/60) * 2\n",
        "tempo_pace_time = (7 + 12/60) * 3\n",
        "\n",
        "total_time_minutes = easy_pace_time + tempo_pace_time\n",
        "total_time_hour = total_time_minutes / 60\n",
        "total_time_minute = total_time_minutes % 60\n",
        "\n",
        "final_hour = start_time_hour + int(total_time_hour)\n",
        "final_minute = start_time_minute + int(total_time_minute)\n",
        "if final_minute >= 60:\n",
        "    final_hour += 1\n",
        "    final_minute -= 60\n",
        "\n",
        "final_hour, final_minute"
      ],
      "metadata": {
        "colab": {
          "base_uri": "https://localhost:8080/"
        },
        "id": "pPzlvsoraJ9O",
        "outputId": "281b976c-2bbc-4d75-8965-6b2b875e6634"
      },
      "execution_count": 8,
      "outputs": [
        {
          "output_type": "execute_result",
          "data": {
            "text/plain": [
              "(7, 30)"
            ]
          },
          "metadata": {},
          "execution_count": 8
        }
      ]
    },
    {
      "cell_type": "markdown",
      "source": [
        "7:30 am"
      ],
      "metadata": {
        "id": "3sHTbd6waeKL"
      }
    }
  ]
}